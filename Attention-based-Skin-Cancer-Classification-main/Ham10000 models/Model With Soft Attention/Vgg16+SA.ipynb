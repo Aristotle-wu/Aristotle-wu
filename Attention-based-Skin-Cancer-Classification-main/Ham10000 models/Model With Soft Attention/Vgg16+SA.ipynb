{
 "cells": [
  {
   "cell_type": "code",
   "execution_count": null,
   "metadata": {
    "colab": {
     "base_uri": "https://localhost:8080/"
    },
    "id": "O5X3ASNLkv3Y",
    "outputId": "79e7e2dd-4c4c-4702-fc63-1576af3d7f93"
   },
   "outputs": [
    {
     "name": "stdout",
     "output_type": "stream",
     "text": [
      "Mounted at /content/drive\n"
     ]
    }
   ],
   "source": [
    "from google.colab import drive\n",
    "drive.mount('/content/drive')"
   ]
  },
  {
   "cell_type": "code",
   "execution_count": null,
   "metadata": {
    "colab": {
     "base_uri": "https://localhost:8080/"
    },
    "id": "qTi0RAUGEfoM",
    "outputId": "e0b05ca6-0ebd-4ce0-926b-512e8122501f"
   },
   "outputs": [
    {
     "name": "stdout",
     "output_type": "stream",
     "text": [
      "done\n"
     ]
    }
   ],
   "source": [
    "from zipfile import ZipFile\n",
    "filename=\"/content/drive/My Drive/HAM10000.zip\"\n",
    "with ZipFile(filename,'r') as zip:\n",
    "  zip.extractall()\n",
    "  print(\"done\")\n"
   ]
  },
  {
   "cell_type": "code",
   "execution_count": null,
   "metadata": {
    "id": "Aa36bMKLze3z"
   },
   "outputs": [],
   "source": [
    "import pandas as pd\n",
    "import numpy as np\n",
    "import os\n",
    "import tensorflow as tf\n",
    "import cv2\n",
    "from keras import backend as K\n",
    "from keras.layers import Layer,InputSpec\n",
    "import keras.layers as kl\n",
    "from glob import glob\n",
    "from sklearn.metrics import roc_curve, auc\n",
    "from keras.preprocessing import image\n",
    "from tensorflow.keras.models import Sequential\n",
    "from sklearn.metrics import roc_auc_score\n",
    "from tensorflow.keras import callbacks \n",
    "from tensorflow.keras.callbacks import ModelCheckpoint,EarlyStopping\n",
    "from  matplotlib import pyplot as plt\n",
    "from tensorflow.keras import Model\n",
    "from tensorflow.keras.layers import concatenate,Dense, Conv2D, MaxPooling2D, Flatten,Input,Activation,add,AveragePooling2D,BatchNormalization,Dropout\n",
    "%matplotlib inline\n",
    "import shutil\n",
    "from sklearn.metrics import  precision_score, recall_score, accuracy_score,classification_report ,confusion_matrix\n",
    "from tensorflow.python.platform import build_info as tf_build_info\n",
    "from tensorflow.keras.preprocessing.image import ImageDataGenerator\n",
    "from sklearn.model_selection import train_test_split\n",
    "\n",
    "from PIL import ImageFile\n",
    "ImageFile.LOAD_TRUNCATED_IMAGES = True"
   ]
  },
  {
   "cell_type": "code",
   "execution_count": null,
   "metadata": {
    "colab": {
     "base_uri": "https://localhost:8080/",
     "height": 206
    },
    "id": "lnzRzk7e44HL",
    "outputId": "6d1e2d2f-1669-42a6-f6a7-45a52b73ce41"
   },
   "outputs": [
    {
     "data": {
      "text/html": [
       "<div>\n",
       "<style scoped>\n",
       "    .dataframe tbody tr th:only-of-type {\n",
       "        vertical-align: middle;\n",
       "    }\n",
       "\n",
       "    .dataframe tbody tr th {\n",
       "        vertical-align: top;\n",
       "    }\n",
       "\n",
       "    .dataframe thead th {\n",
       "        text-align: right;\n",
       "    }\n",
       "</style>\n",
       "<table border=\"1\" class=\"dataframe\">\n",
       "  <thead>\n",
       "    <tr style=\"text-align: right;\">\n",
       "      <th></th>\n",
       "      <th>lesion_id</th>\n",
       "      <th>image_id</th>\n",
       "      <th>dx</th>\n",
       "      <th>dx_type</th>\n",
       "      <th>age</th>\n",
       "      <th>sex</th>\n",
       "      <th>localization</th>\n",
       "    </tr>\n",
       "  </thead>\n",
       "  <tbody>\n",
       "    <tr>\n",
       "      <th>0</th>\n",
       "      <td>HAM_0000118</td>\n",
       "      <td>ISIC_0027419</td>\n",
       "      <td>bkl</td>\n",
       "      <td>histo</td>\n",
       "      <td>80.0</td>\n",
       "      <td>male</td>\n",
       "      <td>scalp</td>\n",
       "    </tr>\n",
       "    <tr>\n",
       "      <th>1</th>\n",
       "      <td>HAM_0000118</td>\n",
       "      <td>ISIC_0025030</td>\n",
       "      <td>bkl</td>\n",
       "      <td>histo</td>\n",
       "      <td>80.0</td>\n",
       "      <td>male</td>\n",
       "      <td>scalp</td>\n",
       "    </tr>\n",
       "    <tr>\n",
       "      <th>2</th>\n",
       "      <td>HAM_0002730</td>\n",
       "      <td>ISIC_0026769</td>\n",
       "      <td>bkl</td>\n",
       "      <td>histo</td>\n",
       "      <td>80.0</td>\n",
       "      <td>male</td>\n",
       "      <td>scalp</td>\n",
       "    </tr>\n",
       "    <tr>\n",
       "      <th>3</th>\n",
       "      <td>HAM_0002730</td>\n",
       "      <td>ISIC_0025661</td>\n",
       "      <td>bkl</td>\n",
       "      <td>histo</td>\n",
       "      <td>80.0</td>\n",
       "      <td>male</td>\n",
       "      <td>scalp</td>\n",
       "    </tr>\n",
       "    <tr>\n",
       "      <th>4</th>\n",
       "      <td>HAM_0001466</td>\n",
       "      <td>ISIC_0031633</td>\n",
       "      <td>bkl</td>\n",
       "      <td>histo</td>\n",
       "      <td>75.0</td>\n",
       "      <td>male</td>\n",
       "      <td>ear</td>\n",
       "    </tr>\n",
       "  </tbody>\n",
       "</table>\n",
       "</div>"
      ],
      "text/plain": [
       "     lesion_id      image_id   dx dx_type   age   sex localization\n",
       "0  HAM_0000118  ISIC_0027419  bkl   histo  80.0  male        scalp\n",
       "1  HAM_0000118  ISIC_0025030  bkl   histo  80.0  male        scalp\n",
       "2  HAM_0002730  ISIC_0026769  bkl   histo  80.0  male        scalp\n",
       "3  HAM_0002730  ISIC_0025661  bkl   histo  80.0  male        scalp\n",
       "4  HAM_0001466  ISIC_0031633  bkl   histo  75.0  male          ear"
      ]
     },
     "execution_count": 5,
     "metadata": {
      "tags": []
     },
     "output_type": "execute_result"
    }
   ],
   "source": [
    "data_pd = pd.read_csv('/content/drive/MyDrive/HAM10000_metadata.csv')\n",
    "data_pd.head()"
   ]
  },
  {
   "cell_type": "code",
   "execution_count": null,
   "metadata": {
    "id": "qlR6SjeEzXsm"
   },
   "outputs": [],
   "source": [
    "train_dir = os.path.join('HAM10000', 'train_dir')\n",
    "test_dir = os.path.join('HAM10000', 'test_dir')"
   ]
  },
  {
   "cell_type": "code",
   "execution_count": null,
   "metadata": {
    "colab": {
     "base_uri": "https://localhost:8080/",
     "height": 237
    },
    "id": "_IFqPgUu5jPj",
    "outputId": "979e5d51-8319-435c-f4db-1981b452c849"
   },
   "outputs": [
    {
     "data": {
      "text/html": [
       "<div>\n",
       "<style scoped>\n",
       "    .dataframe tbody tr th:only-of-type {\n",
       "        vertical-align: middle;\n",
       "    }\n",
       "\n",
       "    .dataframe tbody tr th {\n",
       "        vertical-align: top;\n",
       "    }\n",
       "\n",
       "    .dataframe thead th {\n",
       "        text-align: right;\n",
       "    }\n",
       "</style>\n",
       "<table border=\"1\" class=\"dataframe\">\n",
       "  <thead>\n",
       "    <tr style=\"text-align: right;\">\n",
       "      <th></th>\n",
       "      <th>image_id</th>\n",
       "      <th>dx</th>\n",
       "      <th>dx_type</th>\n",
       "      <th>age</th>\n",
       "      <th>sex</th>\n",
       "      <th>localization</th>\n",
       "    </tr>\n",
       "    <tr>\n",
       "      <th>lesion_id</th>\n",
       "      <th></th>\n",
       "      <th></th>\n",
       "      <th></th>\n",
       "      <th></th>\n",
       "      <th></th>\n",
       "      <th></th>\n",
       "    </tr>\n",
       "  </thead>\n",
       "  <tbody>\n",
       "    <tr>\n",
       "      <th>HAM_0000000</th>\n",
       "      <td>2</td>\n",
       "      <td>2</td>\n",
       "      <td>2</td>\n",
       "      <td>2</td>\n",
       "      <td>2</td>\n",
       "      <td>2</td>\n",
       "    </tr>\n",
       "    <tr>\n",
       "      <th>HAM_0000001</th>\n",
       "      <td>1</td>\n",
       "      <td>1</td>\n",
       "      <td>1</td>\n",
       "      <td>1</td>\n",
       "      <td>1</td>\n",
       "      <td>1</td>\n",
       "    </tr>\n",
       "    <tr>\n",
       "      <th>HAM_0000002</th>\n",
       "      <td>3</td>\n",
       "      <td>3</td>\n",
       "      <td>3</td>\n",
       "      <td>3</td>\n",
       "      <td>3</td>\n",
       "      <td>3</td>\n",
       "    </tr>\n",
       "    <tr>\n",
       "      <th>HAM_0000003</th>\n",
       "      <td>1</td>\n",
       "      <td>1</td>\n",
       "      <td>1</td>\n",
       "      <td>1</td>\n",
       "      <td>1</td>\n",
       "      <td>1</td>\n",
       "    </tr>\n",
       "    <tr>\n",
       "      <th>HAM_0000004</th>\n",
       "      <td>1</td>\n",
       "      <td>1</td>\n",
       "      <td>1</td>\n",
       "      <td>1</td>\n",
       "      <td>1</td>\n",
       "      <td>1</td>\n",
       "    </tr>\n",
       "  </tbody>\n",
       "</table>\n",
       "</div>"
      ],
      "text/plain": [
       "             image_id  dx  dx_type  age  sex  localization\n",
       "lesion_id                                                 \n",
       "HAM_0000000         2   2        2    2    2             2\n",
       "HAM_0000001         1   1        1    1    1             1\n",
       "HAM_0000002         3   3        3    3    3             3\n",
       "HAM_0000003         1   1        1    1    1             1\n",
       "HAM_0000004         1   1        1    1    1             1"
      ]
     },
     "execution_count": 7,
     "metadata": {
      "tags": []
     },
     "output_type": "execute_result"
    }
   ],
   "source": [
    "df_count = data_pd.groupby('lesion_id').count()\n",
    "df_count.head()"
   ]
  },
  {
   "cell_type": "code",
   "execution_count": null,
   "metadata": {
    "id": "QjMQNZRI2xl7"
   },
   "outputs": [],
   "source": [
    "df_count = df_count[df_count['dx'] == 1]\n",
    "df_count.reset_index(inplace=True)"
   ]
  },
  {
   "cell_type": "code",
   "execution_count": null,
   "metadata": {
    "id": "NeVfs-Ly95gs"
   },
   "outputs": [],
   "source": [
    "def duplicates(x):\n",
    "    unique = set(df_count['lesion_id'])\n",
    "    if x in unique:\n",
    "        return 'no' \n",
    "    else:\n",
    "        return 'duplicates'"
   ]
  },
  {
   "cell_type": "code",
   "execution_count": null,
   "metadata": {
    "colab": {
     "base_uri": "https://localhost:8080/",
     "height": 206
    },
    "id": "2WZZRSzO5v8t",
    "outputId": "5042fd49-03f1-48a6-ed7b-ac849f1fe0c9"
   },
   "outputs": [
    {
     "data": {
      "text/html": [
       "<div>\n",
       "<style scoped>\n",
       "    .dataframe tbody tr th:only-of-type {\n",
       "        vertical-align: middle;\n",
       "    }\n",
       "\n",
       "    .dataframe tbody tr th {\n",
       "        vertical-align: top;\n",
       "    }\n",
       "\n",
       "    .dataframe thead th {\n",
       "        text-align: right;\n",
       "    }\n",
       "</style>\n",
       "<table border=\"1\" class=\"dataframe\">\n",
       "  <thead>\n",
       "    <tr style=\"text-align: right;\">\n",
       "      <th></th>\n",
       "      <th>lesion_id</th>\n",
       "      <th>image_id</th>\n",
       "      <th>dx</th>\n",
       "      <th>dx_type</th>\n",
       "      <th>age</th>\n",
       "      <th>sex</th>\n",
       "      <th>localization</th>\n",
       "      <th>is_duplicate</th>\n",
       "    </tr>\n",
       "  </thead>\n",
       "  <tbody>\n",
       "    <tr>\n",
       "      <th>0</th>\n",
       "      <td>HAM_0000118</td>\n",
       "      <td>ISIC_0027419</td>\n",
       "      <td>bkl</td>\n",
       "      <td>histo</td>\n",
       "      <td>80.0</td>\n",
       "      <td>male</td>\n",
       "      <td>scalp</td>\n",
       "      <td>duplicates</td>\n",
       "    </tr>\n",
       "    <tr>\n",
       "      <th>1</th>\n",
       "      <td>HAM_0000118</td>\n",
       "      <td>ISIC_0025030</td>\n",
       "      <td>bkl</td>\n",
       "      <td>histo</td>\n",
       "      <td>80.0</td>\n",
       "      <td>male</td>\n",
       "      <td>scalp</td>\n",
       "      <td>duplicates</td>\n",
       "    </tr>\n",
       "    <tr>\n",
       "      <th>2</th>\n",
       "      <td>HAM_0002730</td>\n",
       "      <td>ISIC_0026769</td>\n",
       "      <td>bkl</td>\n",
       "      <td>histo</td>\n",
       "      <td>80.0</td>\n",
       "      <td>male</td>\n",
       "      <td>scalp</td>\n",
       "      <td>duplicates</td>\n",
       "    </tr>\n",
       "    <tr>\n",
       "      <th>3</th>\n",
       "      <td>HAM_0002730</td>\n",
       "      <td>ISIC_0025661</td>\n",
       "      <td>bkl</td>\n",
       "      <td>histo</td>\n",
       "      <td>80.0</td>\n",
       "      <td>male</td>\n",
       "      <td>scalp</td>\n",
       "      <td>duplicates</td>\n",
       "    </tr>\n",
       "    <tr>\n",
       "      <th>4</th>\n",
       "      <td>HAM_0001466</td>\n",
       "      <td>ISIC_0031633</td>\n",
       "      <td>bkl</td>\n",
       "      <td>histo</td>\n",
       "      <td>75.0</td>\n",
       "      <td>male</td>\n",
       "      <td>ear</td>\n",
       "      <td>duplicates</td>\n",
       "    </tr>\n",
       "  </tbody>\n",
       "</table>\n",
       "</div>"
      ],
      "text/plain": [
       "     lesion_id      image_id   dx dx_type   age   sex localization is_duplicate\n",
       "0  HAM_0000118  ISIC_0027419  bkl   histo  80.0  male        scalp   duplicates\n",
       "1  HAM_0000118  ISIC_0025030  bkl   histo  80.0  male        scalp   duplicates\n",
       "2  HAM_0002730  ISIC_0026769  bkl   histo  80.0  male        scalp   duplicates\n",
       "3  HAM_0002730  ISIC_0025661  bkl   histo  80.0  male        scalp   duplicates\n",
       "4  HAM_0001466  ISIC_0031633  bkl   histo  75.0  male          ear   duplicates"
      ]
     },
     "execution_count": 10,
     "metadata": {
      "tags": []
     },
     "output_type": "execute_result"
    }
   ],
   "source": [
    "data_pd['is_duplicate'] = data_pd['lesion_id'].apply(duplicates)\n",
    "data_pd.head()"
   ]
  },
  {
   "cell_type": "code",
   "execution_count": null,
   "metadata": {
    "id": "3BhGlAv0yAHu"
   },
   "outputs": [],
   "source": [
    "df_count = data_pd[data_pd['is_duplicate'] == 'no']"
   ]
  },
  {
   "cell_type": "code",
   "execution_count": null,
   "metadata": {
    "id": "Y3ndAO_Ex5fb"
   },
   "outputs": [],
   "source": [
    "train, test_df = train_test_split(df_count, test_size=0.15, stratify=df_count['dx'])"
   ]
  },
  {
   "cell_type": "code",
   "execution_count": null,
   "metadata": {
    "colab": {
     "base_uri": "https://localhost:8080/",
     "height": 206
    },
    "id": "T7w2kYUdNkjX",
    "outputId": "5b6b9660-79f4-4fdb-ec79-4d5366f99a3e"
   },
   "outputs": [
    {
     "data": {
      "text/html": [
       "<div>\n",
       "<style scoped>\n",
       "    .dataframe tbody tr th:only-of-type {\n",
       "        vertical-align: middle;\n",
       "    }\n",
       "\n",
       "    .dataframe tbody tr th {\n",
       "        vertical-align: top;\n",
       "    }\n",
       "\n",
       "    .dataframe thead th {\n",
       "        text-align: right;\n",
       "    }\n",
       "</style>\n",
       "<table border=\"1\" class=\"dataframe\">\n",
       "  <thead>\n",
       "    <tr style=\"text-align: right;\">\n",
       "      <th></th>\n",
       "      <th>lesion_id</th>\n",
       "      <th>image_id</th>\n",
       "      <th>dx</th>\n",
       "      <th>dx_type</th>\n",
       "      <th>age</th>\n",
       "      <th>sex</th>\n",
       "      <th>localization</th>\n",
       "      <th>is_duplicate</th>\n",
       "      <th>train_test_split</th>\n",
       "    </tr>\n",
       "  </thead>\n",
       "  <tbody>\n",
       "    <tr>\n",
       "      <th>0</th>\n",
       "      <td>HAM_0000118</td>\n",
       "      <td>ISIC_0027419</td>\n",
       "      <td>bkl</td>\n",
       "      <td>histo</td>\n",
       "      <td>80.0</td>\n",
       "      <td>male</td>\n",
       "      <td>scalp</td>\n",
       "      <td>duplicates</td>\n",
       "      <td>train</td>\n",
       "    </tr>\n",
       "    <tr>\n",
       "      <th>1</th>\n",
       "      <td>HAM_0000118</td>\n",
       "      <td>ISIC_0025030</td>\n",
       "      <td>bkl</td>\n",
       "      <td>histo</td>\n",
       "      <td>80.0</td>\n",
       "      <td>male</td>\n",
       "      <td>scalp</td>\n",
       "      <td>duplicates</td>\n",
       "      <td>train</td>\n",
       "    </tr>\n",
       "    <tr>\n",
       "      <th>2</th>\n",
       "      <td>HAM_0002730</td>\n",
       "      <td>ISIC_0026769</td>\n",
       "      <td>bkl</td>\n",
       "      <td>histo</td>\n",
       "      <td>80.0</td>\n",
       "      <td>male</td>\n",
       "      <td>scalp</td>\n",
       "      <td>duplicates</td>\n",
       "      <td>train</td>\n",
       "    </tr>\n",
       "    <tr>\n",
       "      <th>3</th>\n",
       "      <td>HAM_0002730</td>\n",
       "      <td>ISIC_0025661</td>\n",
       "      <td>bkl</td>\n",
       "      <td>histo</td>\n",
       "      <td>80.0</td>\n",
       "      <td>male</td>\n",
       "      <td>scalp</td>\n",
       "      <td>duplicates</td>\n",
       "      <td>train</td>\n",
       "    </tr>\n",
       "    <tr>\n",
       "      <th>4</th>\n",
       "      <td>HAM_0001466</td>\n",
       "      <td>ISIC_0031633</td>\n",
       "      <td>bkl</td>\n",
       "      <td>histo</td>\n",
       "      <td>75.0</td>\n",
       "      <td>male</td>\n",
       "      <td>ear</td>\n",
       "      <td>duplicates</td>\n",
       "      <td>train</td>\n",
       "    </tr>\n",
       "  </tbody>\n",
       "</table>\n",
       "</div>"
      ],
      "text/plain": [
       "     lesion_id      image_id   dx  ... localization  is_duplicate train_test_split\n",
       "0  HAM_0000118  ISIC_0027419  bkl  ...        scalp    duplicates            train\n",
       "1  HAM_0000118  ISIC_0025030  bkl  ...        scalp    duplicates            train\n",
       "2  HAM_0002730  ISIC_0026769  bkl  ...        scalp    duplicates            train\n",
       "3  HAM_0002730  ISIC_0025661  bkl  ...        scalp    duplicates            train\n",
       "4  HAM_0001466  ISIC_0031633  bkl  ...          ear    duplicates            train\n",
       "\n",
       "[5 rows x 9 columns]"
      ]
     },
     "execution_count": 13,
     "metadata": {
      "tags": []
     },
     "output_type": "execute_result"
    }
   ],
   "source": [
    "def identify_trainOrtest(x):\n",
    "    test_data = set(test_df['image_id'])\n",
    "    if str(x) in test_data:\n",
    "        return 'test'\n",
    "    else:\n",
    "        return 'train'\n",
    "\n",
    "#creating train_df\n",
    "data_pd['train_test_split'] = data_pd['image_id'].apply(identify_trainOrtest)\n",
    "train_df = data_pd[data_pd['train_test_split'] == 'train']\n",
    "train_df.head()"
   ]
  },
  {
   "cell_type": "code",
   "execution_count": null,
   "metadata": {
    "colab": {
     "base_uri": "https://localhost:8080/",
     "height": 206
    },
    "id": "FPySEG1m58pu",
    "outputId": "18fd6e44-8d62-4a88-efa7-d29aa64637ae"
   },
   "outputs": [
    {
     "data": {
      "text/html": [
       "<div>\n",
       "<style scoped>\n",
       "    .dataframe tbody tr th:only-of-type {\n",
       "        vertical-align: middle;\n",
       "    }\n",
       "\n",
       "    .dataframe tbody tr th {\n",
       "        vertical-align: top;\n",
       "    }\n",
       "\n",
       "    .dataframe thead th {\n",
       "        text-align: right;\n",
       "    }\n",
       "</style>\n",
       "<table border=\"1\" class=\"dataframe\">\n",
       "  <thead>\n",
       "    <tr style=\"text-align: right;\">\n",
       "      <th></th>\n",
       "      <th>lesion_id</th>\n",
       "      <th>image_id</th>\n",
       "      <th>dx</th>\n",
       "      <th>dx_type</th>\n",
       "      <th>age</th>\n",
       "      <th>sex</th>\n",
       "      <th>localization</th>\n",
       "      <th>is_duplicate</th>\n",
       "    </tr>\n",
       "  </thead>\n",
       "  <tbody>\n",
       "    <tr>\n",
       "      <th>5106</th>\n",
       "      <td>HAM_0004931</td>\n",
       "      <td>ISIC_0026428</td>\n",
       "      <td>nv</td>\n",
       "      <td>follow_up</td>\n",
       "      <td>50.0</td>\n",
       "      <td>male</td>\n",
       "      <td>lower extremity</td>\n",
       "      <td>no</td>\n",
       "    </tr>\n",
       "    <tr>\n",
       "      <th>6623</th>\n",
       "      <td>HAM_0001984</td>\n",
       "      <td>ISIC_0025092</td>\n",
       "      <td>nv</td>\n",
       "      <td>follow_up</td>\n",
       "      <td>50.0</td>\n",
       "      <td>male</td>\n",
       "      <td>trunk</td>\n",
       "      <td>no</td>\n",
       "    </tr>\n",
       "    <tr>\n",
       "      <th>5908</th>\n",
       "      <td>HAM_0001664</td>\n",
       "      <td>ISIC_0025217</td>\n",
       "      <td>nv</td>\n",
       "      <td>follow_up</td>\n",
       "      <td>50.0</td>\n",
       "      <td>male</td>\n",
       "      <td>back</td>\n",
       "      <td>no</td>\n",
       "    </tr>\n",
       "    <tr>\n",
       "      <th>4156</th>\n",
       "      <td>HAM_0005306</td>\n",
       "      <td>ISIC_0027056</td>\n",
       "      <td>nv</td>\n",
       "      <td>follow_up</td>\n",
       "      <td>60.0</td>\n",
       "      <td>male</td>\n",
       "      <td>back</td>\n",
       "      <td>no</td>\n",
       "    </tr>\n",
       "    <tr>\n",
       "      <th>4579</th>\n",
       "      <td>HAM_0002478</td>\n",
       "      <td>ISIC_0031787</td>\n",
       "      <td>nv</td>\n",
       "      <td>follow_up</td>\n",
       "      <td>60.0</td>\n",
       "      <td>female</td>\n",
       "      <td>unknown</td>\n",
       "      <td>no</td>\n",
       "    </tr>\n",
       "  </tbody>\n",
       "</table>\n",
       "</div>"
      ],
      "text/plain": [
       "        lesion_id      image_id  dx  ...     sex     localization is_duplicate\n",
       "5106  HAM_0004931  ISIC_0026428  nv  ...    male  lower extremity           no\n",
       "6623  HAM_0001984  ISIC_0025092  nv  ...    male            trunk           no\n",
       "5908  HAM_0001664  ISIC_0025217  nv  ...    male             back           no\n",
       "4156  HAM_0005306  ISIC_0027056  nv  ...    male             back           no\n",
       "4579  HAM_0002478  ISIC_0031787  nv  ...  female          unknown           no\n",
       "\n",
       "[5 rows x 8 columns]"
      ]
     },
     "execution_count": 14,
     "metadata": {
      "tags": []
     },
     "output_type": "execute_result"
    }
   ],
   "source": [
    "test_df.head()"
   ]
  },
  {
   "cell_type": "code",
   "execution_count": null,
   "metadata": {
    "id": "Ja7jQJQb39wi"
   },
   "outputs": [],
   "source": [
    "# Image id of train and test images\n",
    "train_list = list(train_df['image_id'])\n",
    "test_list = list(test_df['image_id'])"
   ]
  },
  {
   "cell_type": "code",
   "execution_count": null,
   "metadata": {
    "colab": {
     "base_uri": "https://localhost:8080/"
    },
    "id": "lBJgBAjP13q5",
    "outputId": "463d1b3f-d77c-49b0-d89e-9ce5d21a47e0"
   },
   "outputs": [
    {
     "data": {
      "text/plain": [
       "828"
      ]
     },
     "execution_count": 16,
     "metadata": {
      "tags": []
     },
     "output_type": "execute_result"
    }
   ],
   "source": [
    "len(test_list)"
   ]
  },
  {
   "cell_type": "code",
   "execution_count": null,
   "metadata": {
    "colab": {
     "base_uri": "https://localhost:8080/"
    },
    "id": "eEChk1DK-H8Z",
    "outputId": "612e1f17-9db3-4dea-c99e-0b7aa5ee566a"
   },
   "outputs": [
    {
     "data": {
      "text/plain": [
       "9187"
      ]
     },
     "execution_count": 17,
     "metadata": {
      "tags": []
     },
     "output_type": "execute_result"
    }
   ],
   "source": [
    "len(train_list)"
   ]
  },
  {
   "cell_type": "code",
   "execution_count": null,
   "metadata": {
    "id": "PIoMqylGAYYZ"
   },
   "outputs": [],
   "source": [
    "# Set the image_id as the index in data_pd\n",
    "data_pd.set_index('image_id', inplace=True)"
   ]
  },
  {
   "cell_type": "code",
   "execution_count": null,
   "metadata": {
    "id": "Ja_PtDYyDPMM"
   },
   "outputs": [],
   "source": [
    "os.mkdir(train_dir)\n",
    "os.mkdir(test_dir)"
   ]
  },
  {
   "cell_type": "code",
   "execution_count": null,
   "metadata": {
    "id": "PsoqCvNsgmHP"
   },
   "outputs": [],
   "source": [
    "targetnames = ['akiec', 'bcc', 'bkl', 'df', 'mel', 'nv', 'vasc']"
   ]
  },
  {
   "cell_type": "code",
   "execution_count": null,
   "metadata": {
    "id": "9KYMTQugCmRR"
   },
   "outputs": [],
   "source": [
    "for i in targetnames:\n",
    "  directory1=train_dir+'/'+i\n",
    "  directory2=test_dir+'/'+i\n",
    "  os.mkdir(directory1)\n",
    "  os.mkdir(directory2)"
   ]
  },
  {
   "cell_type": "code",
   "execution_count": null,
   "metadata": {
    "id": "GL9vFa3X-ty1"
   },
   "outputs": [],
   "source": [
    "for image in train_list:\n",
    "    file_name = image+'.jpg'\n",
    "    label = data_pd.loc[image, 'dx']\n",
    "\n",
    "    # path of source image \n",
    "    source = os.path.join('HAM10000', file_name)\n",
    "\n",
    "    # copying the image from the source to target file\n",
    "    target = os.path.join(train_dir, label, file_name)\n",
    "\n",
    "    shutil.copyfile(source, target)"
   ]
  },
  {
   "cell_type": "code",
   "execution_count": null,
   "metadata": {
    "id": "hwbKrEzJ_if2"
   },
   "outputs": [],
   "source": [
    "for image in test_list:\n",
    "\n",
    "    file_name = image+'.jpg'\n",
    "    label = data_pd.loc[image, 'dx']\n",
    "\n",
    "    # path of source image \n",
    "    source = os.path.join('HAM10000', file_name)\n",
    "\n",
    "    # copying the image from the source to target file\n",
    "    target = os.path.join(test_dir, label, file_name)\n",
    "\n",
    "    shutil.copyfile(source, target)"
   ]
  },
  {
   "cell_type": "code",
   "execution_count": null,
   "metadata": {
    "colab": {
     "base_uri": "https://localhost:8080/"
    },
    "id": "4W8hmE2OHjQa",
    "outputId": "e57e21fb-559b-40f8-8755-d8e45bd3e8a4"
   },
   "outputs": [
    {
     "name": "stdout",
     "output_type": "stream",
     "text": [
      "Found 304 images belonging to 1 classes.\n",
      "Found 488 images belonging to 1 classes.\n",
      "Found 1033 images belonging to 1 classes.\n",
      "Found 109 images belonging to 1 classes.\n",
      "Found 1079 images belonging to 1 classes.\n",
      "Found 6042 images belonging to 1 classes.\n",
      "Found 132 images belonging to 1 classes.\n"
     ]
    }
   ],
   "source": [
    "targetnames = ['akiec', 'bcc', 'bkl', 'df', 'mel', 'nv', 'vasc']\n",
    "\n",
    "# Augmenting images and storing them in temporary directories \n",
    "for img_class in targetnames:\n",
    "\n",
    "    #creating temporary directories\n",
    "    # creating a base directory\n",
    "    aug_dir = 'aug_dir'\n",
    "    os.mkdir(aug_dir)\n",
    "    # creating a subdirectory inside the base directory for images of the same class\n",
    "    img_dir = os.path.join(aug_dir, 'img_dir')\n",
    "    os.mkdir(img_dir)\n",
    "\n",
    "    img_list = os.listdir('HAM10000/train_dir/' + img_class)\n",
    "\n",
    "    # Copy images from the class train dir to the img_dir \n",
    "    for file_name in img_list:\n",
    "\n",
    "        # path of source image in training directory\n",
    "        source = os.path.join('HAM10000/train_dir/' + img_class, file_name)\n",
    "\n",
    "        # creating a target directory to send images \n",
    "        target = os.path.join(img_dir, file_name)\n",
    "\n",
    "        # copying the image from the source to target file\n",
    "        shutil.copyfile(source, target)\n",
    "\n",
    "    # Temporary augumented dataset directory.\n",
    "    source_path = aug_dir\n",
    "\n",
    "    # Augmented images will be saved to training directory\n",
    "    save_path = 'HAM10000/train_dir/' + img_class\n",
    "\n",
    "    # Creating Image Data Generator to augment images\n",
    "    datagen = tf.keras.preprocessing.image.ImageDataGenerator(\n",
    "\n",
    "        rotation_range=180,\n",
    "        width_shift_range=0.1,\n",
    "        height_shift_range=0.1,\n",
    "        zoom_range=0.1,\n",
    "        horizontal_flip=True,\n",
    "        vertical_flip=True,\n",
    "        fill_mode='nearest'\n",
    "\n",
    "    )\n",
    "\n",
    "    batch_size = 50\n",
    "\n",
    "    aug_datagen = datagen.flow_from_directory(source_path,save_to_dir=save_path,save_format='jpg',target_size=(224, 224),batch_size=batch_size)\n",
    "\n",
    "    # Generate the augmented images\n",
    "    aug_images = 8000 \n",
    "\n",
    "    num_files = len(os.listdir(img_dir))\n",
    "    num_batches = int(np.ceil((aug_images - num_files) / batch_size))\n",
    "\n",
    "    # creating 8000 augmented images per class\n",
    "    for i in range(0, num_batches):\n",
    "        images, labels = next(aug_datagen)\n",
    "\n",
    "    # delete temporary directory \n",
    "    shutil.rmtree('aug_dir')\n"
   ]
  },
  {
   "cell_type": "code",
   "execution_count": null,
   "metadata": {
    "id": "wNisha_gM3_Z"
   },
   "outputs": [],
   "source": [
    "train_path = 'HAM10000/train_dir'\n",
    "test_path = 'HAM10000/test_dir'\n",
    "batch_size=16"
   ]
  },
  {
   "cell_type": "code",
   "execution_count": null,
   "metadata": {
    "id": "zhQWqdRN79B3"
   },
   "outputs": [],
   "source": [
    "datagen=ImageDataGenerator(preprocessing_function=tf.keras.applications.inception_resnet_v2.preprocess_input)"
   ]
  },
  {
   "cell_type": "code",
   "execution_count": null,
   "metadata": {
    "colab": {
     "base_uri": "https://localhost:8080/"
    },
    "id": "w9_8FvOO7Rtu",
    "outputId": "7ca88c24-fda8-45d6-cb32-f3a43ae6ba5b"
   },
   "outputs": [
    {
     "name": "stdout",
     "output_type": "stream",
     "text": [
      "\n",
      "Train Batches: \n",
      "Found 51699 images belonging to 7 classes.\n",
      "\n",
      "Test Batches: \n",
      "Found 828 images belonging to 7 classes.\n"
     ]
    }
   ],
   "source": [
    "image_size = 224\n",
    "print(\"\\nTrain Batches: \")\n",
    "train_batches = datagen.flow_from_directory(directory=train_path,\n",
    "                                            target_size=(image_size,image_size),\n",
    "                                            batch_size=batch_size,\n",
    "                                            shuffle=True)\n",
    "\n",
    "print(\"\\nTest Batches: \")\n",
    "test_batches =datagen.flow_from_directory(test_path,\n",
    "                                           target_size=(image_size,image_size),\n",
    "                                           batch_size=batch_size,\n",
    "                                           shuffle=False)"
   ]
  },
  {
   "cell_type": "code",
   "execution_count": null,
   "metadata": {
    "id": "AbwfHcsOPKYB"
   },
   "outputs": [],
   "source": [
    "#Soft Attention\n",
    "\n",
    "from keras import backend as K\n",
    "from keras.layers import Layer,InputSpec\n",
    "import keras.layers as kl\n",
    "import tensorflow as tf\n",
    "\n",
    "\n",
    "\n",
    "class SoftAttention(Layer):\n",
    "    def __init__(self,ch,m,concat_with_x=False,aggregate=False,**kwargs):\n",
    "        self.channels=int(ch)\n",
    "        self.multiheads = m\n",
    "        self.aggregate_channels = aggregate\n",
    "        self.concat_input_with_scaled = concat_with_x\n",
    "\n",
    "        \n",
    "        super(SoftAttention,self).__init__(**kwargs)\n",
    "\n",
    "    def build(self,input_shape):\n",
    "\n",
    "        self.i_shape = input_shape\n",
    "\n",
    "        kernel_shape_conv3d = (self.channels, 3, 3) + (1, self.multiheads) # DHWC\n",
    "    \n",
    "        self.out_attention_maps_shape = input_shape[0:1]+(self.multiheads,)+input_shape[1:-1]\n",
    "        \n",
    "        if self.aggregate_channels==False:\n",
    "\n",
    "            self.out_features_shape = input_shape[:-1]+(input_shape[-1]+(input_shape[-1]*self.multiheads),)\n",
    "        else:\n",
    "            if self.concat_input_with_scaled:\n",
    "                self.out_features_shape = input_shape[:-1]+(input_shape[-1]*2,)\n",
    "            else:\n",
    "                self.out_features_shape = input_shape\n",
    "        \n",
    "\n",
    "        self.kernel_conv3d = self.add_weight(shape=kernel_shape_conv3d,\n",
    "                                        initializer='he_uniform',\n",
    "                                        name='kernel_conv3d')\n",
    "        self.bias_conv3d = self.add_weight(shape=(self.multiheads,),\n",
    "                                      initializer='zeros',\n",
    "                                      name='bias_conv3d')\n",
    "\n",
    "        super(SoftAttention, self).build(input_shape)\n",
    "\n",
    "    def call(self, x):\n",
    "\n",
    "        exp_x = K.expand_dims(x,axis=-1)\n",
    "\n",
    "        c3d = K.conv3d(exp_x,\n",
    "                     kernel=self.kernel_conv3d,\n",
    "                     strides=(1,1,self.i_shape[-1]), padding='same', data_format='channels_last')\n",
    "        conv3d = K.bias_add(c3d,\n",
    "                        self.bias_conv3d)\n",
    "        conv3d = kl.Activation('relu')(conv3d)\n",
    "\n",
    "        conv3d = K.permute_dimensions(conv3d,pattern=(0,4,1,2,3))\n",
    "\n",
    "        \n",
    "        conv3d = K.squeeze(conv3d, axis=-1)\n",
    "        conv3d = K.reshape(conv3d,shape=(-1, self.multiheads ,self.i_shape[1]*self.i_shape[2]))\n",
    "\n",
    "        softmax_alpha = K.softmax(conv3d, axis=-1) \n",
    "        softmax_alpha = kl.Reshape(target_shape=(self.multiheads, self.i_shape[1],self.i_shape[2]))(softmax_alpha)\n",
    "\n",
    "        \n",
    "        if self.aggregate_channels==False:\n",
    "            exp_softmax_alpha = K.expand_dims(softmax_alpha, axis=-1)       \n",
    "            exp_softmax_alpha = K.permute_dimensions(exp_softmax_alpha,pattern=(0,2,3,1,4))\n",
    "   \n",
    "            x_exp = K.expand_dims(x,axis=-2)\n",
    "   \n",
    "            u = kl.Multiply()([exp_softmax_alpha, x_exp])   \n",
    "  \n",
    "            u = kl.Reshape(target_shape=(self.i_shape[1],self.i_shape[2],u.shape[-1]*u.shape[-2]))(u)\n",
    "\n",
    "        else:\n",
    "            exp_softmax_alpha = K.permute_dimensions(softmax_alpha,pattern=(0,2,3,1))\n",
    "\n",
    "            exp_softmax_alpha = K.sum(exp_softmax_alpha,axis=-1)\n",
    "\n",
    "            exp_softmax_alpha = K.expand_dims(exp_softmax_alpha, axis=-1)\n",
    "\n",
    "            u = kl.Multiply()([exp_softmax_alpha, x])   \n",
    "\n",
    "        if self.concat_input_with_scaled:\n",
    "            o = kl.Concatenate(axis=-1)([u,x])\n",
    "        else:\n",
    "            o = u\n",
    "        \n",
    "        return [o, softmax_alpha]\n",
    "\n",
    "    def compute_output_shape(self, input_shape): \n",
    "        return [self.out_features_shape, self.out_attention_maps_shape]\n",
    "\n",
    "    \n",
    "    def get_config(self):\n",
    "        return super(SoftAttention,self).get_config()\n",
    " "
   ]
  },
  {
   "cell_type": "code",
   "execution_count": null,
   "metadata": {
    "id": "4d4Ta5LcSYaz"
   },
   "outputs": [],
   "source": [
    "MainInput=Input(shape=(224, 224, 3))"
   ]
  },
  {
   "cell_type": "code",
   "execution_count": null,
   "metadata": {
    "id": "LtSMEeZjSYa_"
   },
   "outputs": [],
   "source": [
    "conv=(Conv2D(filters=64,kernel_size=(3,3), activation=\"relu\",padding=\"same\",kernel_initializer='he_normal')(MainInput))\n",
    "conv=(BatchNormalization()(conv))\n",
    "conv=(Conv2D(filters=64,kernel_size=(1,1), activation=\"relu\",padding=\"same\",kernel_initializer='he_normal')(conv))\n",
    "conv=(BatchNormalization()(conv))"
   ]
  },
  {
   "cell_type": "code",
   "execution_count": null,
   "metadata": {
    "id": "wfhLPhssAm2S"
   },
   "outputs": [],
   "source": [
    "conv=(MaxPooling2D(strides=(2, 2),padding=\"same\")(conv))"
   ]
  },
  {
   "cell_type": "code",
   "execution_count": null,
   "metadata": {
    "id": "x8mS99J5SYbT"
   },
   "outputs": [],
   "source": [
    "conv=(Conv2D(filters=128,kernel_size=(3,3), activation=\"relu\",padding=\"same\",kernel_initializer='he_normal')(conv))\n",
    "conv=(BatchNormalization()(conv))\n",
    "conv=(Conv2D(filters=128,kernel_size=(1,1), activation=\"relu\",padding=\"same\",kernel_initializer='he_normal')(conv))\n",
    "conv=(BatchNormalization()(conv))"
   ]
  },
  {
   "cell_type": "code",
   "execution_count": null,
   "metadata": {
    "id": "R8ecZJFySYbb"
   },
   "outputs": [],
   "source": [
    "conv=(MaxPooling2D()(conv))"
   ]
  },
  {
   "cell_type": "code",
   "execution_count": null,
   "metadata": {
    "id": "sW4tKg9wSYbk"
   },
   "outputs": [],
   "source": [
    "conv=(Conv2D(filters=256,kernel_size=(3,3), activation=\"relu\",padding=\"same\",kernel_initializer='he_normal')(conv))\n",
    "conv=(BatchNormalization()(conv))\n",
    "conv=(Conv2D(filters=256,kernel_size=(3,3), activation=\"relu\",padding=\"same\",kernel_initializer='he_normal')(conv))\n",
    "conv=(BatchNormalization()(conv))\n",
    "conv=(Conv2D(filters=256,kernel_size=(1,1), activation=\"relu\",padding=\"same\",kernel_initializer='he_normal')(conv))\n",
    "conv=(BatchNormalization()(conv))"
   ]
  },
  {
   "cell_type": "code",
   "execution_count": null,
   "metadata": {
    "id": "qA1rFJLGSYbv"
   },
   "outputs": [],
   "source": [
    "conv=(MaxPooling2D()(conv))"
   ]
  },
  {
   "cell_type": "code",
   "execution_count": null,
   "metadata": {
    "id": "JDpRx5IESYb9"
   },
   "outputs": [],
   "source": [
    "conv=(Conv2D(filters=512,kernel_size=(3,3), activation=\"relu\",padding=\"same\",kernel_initializer='he_normal')(conv))\n",
    "conv=(BatchNormalization()(conv))\n",
    "conv=(Conv2D(filters=512,kernel_size=(3,3), activation=\"relu\",padding=\"same\",kernel_initializer='he_normal')(conv))\n",
    "conv=(BatchNormalization()(conv))\n",
    "conv=(Conv2D(filters=512,kernel_size=(1,1), activation=\"relu\",padding=\"same\",kernel_initializer='he_normal')(conv))\n",
    "conv=(BatchNormalization()(conv))"
   ]
  },
  {
   "cell_type": "markdown",
   "metadata": {
    "id": "01v8xlTO-n_2"
   },
   "source": [
    "Soft Attention Layer"
   ]
  },
  {
   "cell_type": "code",
   "execution_count": null,
   "metadata": {
    "id": "499CzUn8SYcE"
   },
   "outputs": [],
   "source": [
    "attention_layer,map2 = SoftAttention(aggregate=True,m=16,concat_with_x=False,ch=int(conv.shape[-1]),name='soft_attention')(conv)\n",
    "attention_layer=(MaxPooling2D(pool_size=(2, 2),padding=\"same\")(attention_layer))\n",
    "conv=(MaxPooling2D(pool_size=(2, 2),padding=\"same\")(conv))\n",
    "\n",
    "conv = concatenate([conv,attention_layer])\n",
    "conv=Activation(\"relu\")(conv)\n",
    "conv= Dropout(0.5)(conv)"
   ]
  },
  {
   "cell_type": "code",
   "execution_count": null,
   "metadata": {
    "id": "NrLMX3RCSYcP"
   },
   "outputs": [],
   "source": [
    "conv=(Conv2D(filters=512,kernel_size=(3,3), activation=\"relu\",padding=\"same\",kernel_initializer='he_normal')(conv))\n",
    "conv=(BatchNormalization()(conv))\n",
    "conv=(Conv2D(filters=512,kernel_size=(3,3), activation=\"relu\",padding=\"same\",kernel_initializer='he_normal')(conv))\n",
    "conv=(BatchNormalization()(conv))\n",
    "conv=(Conv2D(filters=512,kernel_size=(1,1), activation=\"relu\",padding=\"same\",kernel_initializer='he_normal')(conv))\n",
    "conv=(BatchNormalization()(conv))"
   ]
  },
  {
   "cell_type": "code",
   "execution_count": null,
   "metadata": {
    "id": "eo8E7RxUSYcW"
   },
   "outputs": [],
   "source": [
    "conv=(MaxPooling2D(pool_size=(4, 4),padding=\"same\")(conv))"
   ]
  },
  {
   "cell_type": "code",
   "execution_count": null,
   "metadata": {
    "id": "-EdFxKdgSYcf"
   },
   "outputs": [],
   "source": [
    "conv=(Flatten()(conv))\n",
    "conv=(Dense(4096,activation=\"relu\")(conv))\n",
    "conv=(Dense(4096,activation=\"relu\")(conv))\n",
    "conv=(Dense(7, activation=\"softmax\")(conv))\n",
    "\n",
    "model = Model(inputs=MainInput, outputs=conv)"
   ]
  },
  {
   "cell_type": "code",
   "execution_count": null,
   "metadata": {
    "colab": {
     "base_uri": "https://localhost:8080/"
    },
    "id": "ba8ajOckSYcl",
    "outputId": "e69fa749-4741-4f49-ae3e-9f5479e809a8"
   },
   "outputs": [
    {
     "name": "stdout",
     "output_type": "stream",
     "text": [
      "Model: \"model\"\n",
      "__________________________________________________________________________________________________\n",
      "Layer (type)                    Output Shape         Param #     Connected to                     \n",
      "==================================================================================================\n",
      "input_1 (InputLayer)            [(None, 224, 224, 3) 0                                            \n",
      "__________________________________________________________________________________________________\n",
      "conv2d (Conv2D)                 (None, 224, 224, 64) 1792        input_1[0][0]                    \n",
      "__________________________________________________________________________________________________\n",
      "batch_normalization (BatchNorma (None, 224, 224, 64) 256         conv2d[0][0]                     \n",
      "__________________________________________________________________________________________________\n",
      "conv2d_1 (Conv2D)               (None, 224, 224, 64) 4160        batch_normalization[0][0]        \n",
      "__________________________________________________________________________________________________\n",
      "batch_normalization_1 (BatchNor (None, 224, 224, 64) 256         conv2d_1[0][0]                   \n",
      "__________________________________________________________________________________________________\n",
      "max_pooling2d (MaxPooling2D)    (None, 112, 112, 64) 0           batch_normalization_1[0][0]      \n",
      "__________________________________________________________________________________________________\n",
      "conv2d_2 (Conv2D)               (None, 112, 112, 128 73856       max_pooling2d[0][0]              \n",
      "__________________________________________________________________________________________________\n",
      "batch_normalization_2 (BatchNor (None, 112, 112, 128 512         conv2d_2[0][0]                   \n",
      "__________________________________________________________________________________________________\n",
      "conv2d_3 (Conv2D)               (None, 112, 112, 128 16512       batch_normalization_2[0][0]      \n",
      "__________________________________________________________________________________________________\n",
      "batch_normalization_3 (BatchNor (None, 112, 112, 128 512         conv2d_3[0][0]                   \n",
      "__________________________________________________________________________________________________\n",
      "max_pooling2d_1 (MaxPooling2D)  (None, 56, 56, 128)  0           batch_normalization_3[0][0]      \n",
      "__________________________________________________________________________________________________\n",
      "conv2d_4 (Conv2D)               (None, 56, 56, 256)  295168      max_pooling2d_1[0][0]            \n",
      "__________________________________________________________________________________________________\n",
      "batch_normalization_4 (BatchNor (None, 56, 56, 256)  1024        conv2d_4[0][0]                   \n",
      "__________________________________________________________________________________________________\n",
      "conv2d_5 (Conv2D)               (None, 56, 56, 256)  590080      batch_normalization_4[0][0]      \n",
      "__________________________________________________________________________________________________\n",
      "batch_normalization_5 (BatchNor (None, 56, 56, 256)  1024        conv2d_5[0][0]                   \n",
      "__________________________________________________________________________________________________\n",
      "conv2d_6 (Conv2D)               (None, 56, 56, 256)  65792       batch_normalization_5[0][0]      \n",
      "__________________________________________________________________________________________________\n",
      "batch_normalization_6 (BatchNor (None, 56, 56, 256)  1024        conv2d_6[0][0]                   \n",
      "__________________________________________________________________________________________________\n",
      "max_pooling2d_2 (MaxPooling2D)  (None, 28, 28, 256)  0           batch_normalization_6[0][0]      \n",
      "__________________________________________________________________________________________________\n",
      "conv2d_7 (Conv2D)               (None, 28, 28, 512)  1180160     max_pooling2d_2[0][0]            \n",
      "__________________________________________________________________________________________________\n",
      "batch_normalization_7 (BatchNor (None, 28, 28, 512)  2048        conv2d_7[0][0]                   \n",
      "__________________________________________________________________________________________________\n",
      "conv2d_8 (Conv2D)               (None, 28, 28, 512)  2359808     batch_normalization_7[0][0]      \n",
      "__________________________________________________________________________________________________\n",
      "batch_normalization_8 (BatchNor (None, 28, 28, 512)  2048        conv2d_8[0][0]                   \n",
      "__________________________________________________________________________________________________\n",
      "conv2d_9 (Conv2D)               (None, 28, 28, 512)  262656      batch_normalization_8[0][0]      \n",
      "__________________________________________________________________________________________________\n",
      "batch_normalization_9 (BatchNor (None, 28, 28, 512)  2048        conv2d_9[0][0]                   \n",
      "__________________________________________________________________________________________________\n",
      "soft_attention (SoftAttention)  [(None, 28, 28, 512) 73744       batch_normalization_9[0][0]      \n",
      "__________________________________________________________________________________________________\n",
      "max_pooling2d_4 (MaxPooling2D)  (None, 14, 14, 512)  0           batch_normalization_9[0][0]      \n",
      "__________________________________________________________________________________________________\n",
      "max_pooling2d_3 (MaxPooling2D)  (None, 14, 14, 512)  0           soft_attention[0][0]             \n",
      "__________________________________________________________________________________________________\n",
      "concatenate (Concatenate)       (None, 14, 14, 1024) 0           max_pooling2d_4[0][0]            \n",
      "                                                                 max_pooling2d_3[0][0]            \n",
      "__________________________________________________________________________________________________\n",
      "activation (Activation)         (None, 14, 14, 1024) 0           concatenate[0][0]                \n",
      "__________________________________________________________________________________________________\n",
      "dropout (Dropout)               (None, 14, 14, 1024) 0           activation[0][0]                 \n",
      "__________________________________________________________________________________________________\n",
      "conv2d_10 (Conv2D)              (None, 14, 14, 512)  4719104     dropout[0][0]                    \n",
      "__________________________________________________________________________________________________\n",
      "batch_normalization_10 (BatchNo (None, 14, 14, 512)  2048        conv2d_10[0][0]                  \n",
      "__________________________________________________________________________________________________\n",
      "conv2d_11 (Conv2D)              (None, 14, 14, 512)  2359808     batch_normalization_10[0][0]     \n",
      "__________________________________________________________________________________________________\n",
      "batch_normalization_11 (BatchNo (None, 14, 14, 512)  2048        conv2d_11[0][0]                  \n",
      "__________________________________________________________________________________________________\n",
      "conv2d_12 (Conv2D)              (None, 14, 14, 512)  262656      batch_normalization_11[0][0]     \n",
      "__________________________________________________________________________________________________\n",
      "batch_normalization_12 (BatchNo (None, 14, 14, 512)  2048        conv2d_12[0][0]                  \n",
      "__________________________________________________________________________________________________\n",
      "max_pooling2d_5 (MaxPooling2D)  (None, 4, 4, 512)    0           batch_normalization_12[0][0]     \n",
      "__________________________________________________________________________________________________\n",
      "flatten (Flatten)               (None, 8192)         0           max_pooling2d_5[0][0]            \n",
      "__________________________________________________________________________________________________\n",
      "dense (Dense)                   (None, 4096)         33558528    flatten[0][0]                    \n",
      "__________________________________________________________________________________________________\n",
      "dense_1 (Dense)                 (None, 4096)         16781312    dense[0][0]                      \n",
      "__________________________________________________________________________________________________\n",
      "dense_2 (Dense)                 (None, 7)            28679       dense_1[0][0]                    \n",
      "==================================================================================================\n",
      "Total params: 62,650,711\n",
      "Trainable params: 62,642,263\n",
      "Non-trainable params: 8,448\n",
      "__________________________________________________________________________________________________\n"
     ]
    }
   ],
   "source": [
    "\n",
    "model.summary()"
   ]
  },
  {
   "cell_type": "code",
   "execution_count": null,
   "metadata": {
    "id": "WR0fUpy18vAZ"
   },
   "outputs": [],
   "source": [
    "opt1=tf.keras.optimizers.Adam(learning_rate=0.01,epsilon=0.1)\n",
    "model.compile(optimizer=opt1,\n",
    "             loss='categorical_crossentropy',\n",
    "             metrics=['accuracy'])"
   ]
  },
  {
   "cell_type": "code",
   "execution_count": null,
   "metadata": {
    "id": "LAf5ha295reS"
   },
   "outputs": [],
   "source": [
    "class_weights = {   \n",
    "                    0: 1.0,  # akiec\n",
    "                    1: 1.0,  # bcc\n",
    "                    2: 1.0,  # bkl\n",
    "                    3: 1.0,  # df\n",
    "                    4: 5.0,  # mel\n",
    "                    5: 1.0,  # nv\n",
    "                    6: 1.0,  # vasc\n",
    "                }\n",
    "\n",
    "\n",
    "checkpoint=  ModelCheckpoint(filepath ='vgg16+SA.hdf5',monitor='val_accuracy',save_best_only=True,save_weights_only=True)\n",
    "\n",
    "\n"
   ]
  },
  {
   "cell_type": "code",
   "execution_count": null,
   "metadata": {
    "colab": {
     "base_uri": "https://localhost:8080/"
    },
    "id": "NUzTmiZ-8hL3",
    "outputId": "e1825ff2-9f9c-436f-cf2c-9776af8eee62"
   },
   "outputs": [
    {
     "name": "stdout",
     "output_type": "stream",
     "text": [
      "Epoch 1/300\n",
      "919/919 - 65s - loss: 2.9239 - accuracy: 0.2581 - val_loss: 1.7407 - val_accuracy: 0.3841\n",
      "Epoch 2/300\n",
      "919/919 - 51s - loss: 2.3200 - accuracy: 0.2625 - val_loss: 1.0123 - val_accuracy: 0.6099\n",
      "Epoch 3/300\n",
      "919/919 - 51s - loss: 2.2827 - accuracy: 0.2550 - val_loss: 2.4937 - val_accuracy: 0.0519\n",
      "Epoch 4/300\n",
      "919/919 - 51s - loss: 2.2735 - accuracy: 0.2540 - val_loss: 1.4396 - val_accuracy: 0.5181\n",
      "Epoch 5/300\n",
      "919/919 - 51s - loss: 2.2008 - accuracy: 0.3052 - val_loss: 2.1610 - val_accuracy: 0.0688\n",
      "Epoch 6/300\n",
      "919/919 - 50s - loss: 2.1614 - accuracy: 0.3111 - val_loss: 1.9966 - val_accuracy: 0.0761\n",
      "Epoch 7/300\n",
      "919/919 - 50s - loss: 2.1029 - accuracy: 0.3329 - val_loss: 1.6725 - val_accuracy: 0.3937\n",
      "Epoch 8/300\n",
      "919/919 - 50s - loss: 2.1158 - accuracy: 0.3322 - val_loss: 1.4528 - val_accuracy: 0.4179\n",
      "Epoch 9/300\n",
      "919/919 - 50s - loss: 2.0163 - accuracy: 0.3669 - val_loss: 1.1903 - val_accuracy: 0.5737\n",
      "Epoch 10/300\n",
      "919/919 - 58s - loss: 1.9859 - accuracy: 0.3673 - val_loss: 1.0561 - val_accuracy: 0.6800\n",
      "Epoch 11/300\n",
      "919/919 - 51s - loss: 1.9631 - accuracy: 0.3828 - val_loss: 1.0043 - val_accuracy: 0.6630\n",
      "Epoch 12/300\n",
      "919/919 - 50s - loss: 1.9251 - accuracy: 0.3950 - val_loss: 1.1270 - val_accuracy: 0.5495\n",
      "Epoch 13/300\n",
      "919/919 - 51s - loss: 1.9177 - accuracy: 0.3997 - val_loss: 1.8282 - val_accuracy: 0.3430\n",
      "Epoch 14/300\n",
      "919/919 - 51s - loss: 1.9638 - accuracy: 0.3930 - val_loss: 1.4074 - val_accuracy: 0.5012\n",
      "Epoch 15/300\n",
      "919/919 - 50s - loss: 2.1250 - accuracy: 0.3420 - val_loss: 0.7479 - val_accuracy: 0.7669\n",
      "Epoch 16/300\n",
      "919/919 - 50s - loss: 1.9006 - accuracy: 0.3836 - val_loss: 0.9339 - val_accuracy: 0.6099\n",
      "Epoch 17/300\n",
      "919/919 - 50s - loss: 1.8465 - accuracy: 0.4013 - val_loss: 0.9394 - val_accuracy: 0.6751\n",
      "Epoch 18/300\n",
      "919/919 - 50s - loss: 1.7685 - accuracy: 0.4245 - val_loss: 0.7271 - val_accuracy: 0.7428\n",
      "Epoch 19/300\n",
      "919/919 - 50s - loss: 1.7238 - accuracy: 0.4446 - val_loss: 0.7913 - val_accuracy: 0.7077\n",
      "Epoch 20/300\n",
      "919/919 - 50s - loss: 1.6997 - accuracy: 0.4474 - val_loss: 0.7531 - val_accuracy: 0.7355\n",
      "Epoch 21/300\n",
      "919/919 - 51s - loss: 1.6833 - accuracy: 0.4528 - val_loss: 0.8171 - val_accuracy: 0.6860\n",
      "Epoch 22/300\n",
      "919/919 - 51s - loss: 1.6299 - accuracy: 0.4772 - val_loss: 0.6567 - val_accuracy: 0.7693\n",
      "Epoch 23/300\n",
      "919/919 - 50s - loss: 1.5786 - accuracy: 0.4860 - val_loss: 1.1104 - val_accuracy: 0.5229\n",
      "Epoch 24/300\n",
      "919/919 - 51s - loss: 1.5686 - accuracy: 0.4977 - val_loss: 0.6249 - val_accuracy: 0.7778\n",
      "Epoch 25/300\n",
      "919/919 - 50s - loss: 1.5371 - accuracy: 0.5113 - val_loss: 0.7102 - val_accuracy: 0.7536\n",
      "Epoch 26/300\n",
      "919/919 - 51s - loss: 1.5046 - accuracy: 0.5237 - val_loss: 0.6259 - val_accuracy: 0.7512\n",
      "Epoch 27/300\n",
      "919/919 - 50s - loss: 1.4480 - accuracy: 0.5427 - val_loss: 0.7871 - val_accuracy: 0.6981\n",
      "Epoch 28/300\n",
      "919/919 - 50s - loss: 1.4237 - accuracy: 0.5534 - val_loss: 0.5363 - val_accuracy: 0.8104\n",
      "Epoch 29/300\n",
      "919/919 - 51s - loss: 1.3758 - accuracy: 0.5655 - val_loss: 0.5224 - val_accuracy: 0.8188\n",
      "Epoch 30/300\n",
      "919/919 - 50s - loss: 1.3865 - accuracy: 0.5640 - val_loss: 0.6152 - val_accuracy: 0.7802\n",
      "Epoch 31/300\n",
      "919/919 - 51s - loss: 1.3840 - accuracy: 0.5614 - val_loss: 0.6817 - val_accuracy: 0.7355\n",
      "Epoch 32/300\n",
      "919/919 - 51s - loss: 1.3559 - accuracy: 0.5720 - val_loss: 0.5041 - val_accuracy: 0.8176\n",
      "Epoch 33/300\n",
      "919/919 - 50s - loss: 1.3193 - accuracy: 0.5864 - val_loss: 0.5506 - val_accuracy: 0.7911\n",
      "Epoch 34/300\n",
      "919/919 - 50s - loss: 1.3187 - accuracy: 0.5862 - val_loss: 0.7548 - val_accuracy: 0.7271\n",
      "Epoch 35/300\n",
      "919/919 - 50s - loss: 1.3017 - accuracy: 0.5890 - val_loss: 0.5914 - val_accuracy: 0.7645\n",
      "Epoch 36/300\n",
      "919/919 - 51s - loss: 1.2793 - accuracy: 0.6040 - val_loss: 0.6085 - val_accuracy: 0.7609\n",
      "Epoch 37/300\n",
      "919/919 - 51s - loss: 1.2485 - accuracy: 0.6102 - val_loss: 0.5300 - val_accuracy: 0.8237\n",
      "Epoch 38/300\n",
      "919/919 - 51s - loss: 1.2453 - accuracy: 0.6153 - val_loss: 0.6557 - val_accuracy: 0.7440\n",
      "Epoch 39/300\n",
      "919/919 - 51s - loss: 1.2201 - accuracy: 0.6213 - val_loss: 0.5240 - val_accuracy: 0.8092\n",
      "Epoch 40/300\n",
      "919/919 - 50s - loss: 1.2062 - accuracy: 0.6287 - val_loss: 0.5770 - val_accuracy: 0.8188\n",
      "Epoch 41/300\n",
      "919/919 - 50s - loss: 1.2049 - accuracy: 0.6297 - val_loss: 0.5309 - val_accuracy: 0.8031\n",
      "Epoch 42/300\n",
      "919/919 - 51s - loss: 1.1982 - accuracy: 0.6249 - val_loss: 0.5185 - val_accuracy: 0.8261\n",
      "Epoch 43/300\n",
      "919/919 - 50s - loss: 1.1832 - accuracy: 0.6386 - val_loss: 0.5113 - val_accuracy: 0.8297\n",
      "Epoch 44/300\n",
      "919/919 - 50s - loss: 1.1542 - accuracy: 0.6416 - val_loss: 0.5467 - val_accuracy: 0.7971\n",
      "Epoch 45/300\n",
      "919/919 - 50s - loss: 1.1274 - accuracy: 0.6471 - val_loss: 0.5650 - val_accuracy: 0.8188\n",
      "Epoch 46/300\n",
      "919/919 - 51s - loss: 1.0585 - accuracy: 0.6754 - val_loss: 0.5265 - val_accuracy: 0.8273\n",
      "Epoch 47/300\n",
      "919/919 - 50s - loss: 1.1009 - accuracy: 0.6587 - val_loss: 0.4692 - val_accuracy: 0.8466\n",
      "Epoch 48/300\n",
      "919/919 - 50s - loss: 1.1365 - accuracy: 0.6535 - val_loss: 0.5741 - val_accuracy: 0.7729\n",
      "Epoch 49/300\n",
      "919/919 - 51s - loss: 1.1341 - accuracy: 0.6539 - val_loss: 1.0751 - val_accuracy: 0.5266\n",
      "Epoch 50/300\n",
      "919/919 - 51s - loss: 1.0410 - accuracy: 0.6801 - val_loss: 0.6311 - val_accuracy: 0.7911\n",
      "Epoch 51/300\n",
      "919/919 - 50s - loss: 1.0559 - accuracy: 0.6786 - val_loss: 0.6303 - val_accuracy: 0.7778\n",
      "Epoch 52/300\n",
      "919/919 - 51s - loss: 1.0870 - accuracy: 0.6725 - val_loss: 0.6634 - val_accuracy: 0.7536\n",
      "Epoch 53/300\n",
      "919/919 - 50s - loss: 1.0182 - accuracy: 0.6919 - val_loss: 0.5827 - val_accuracy: 0.8019\n",
      "Epoch 54/300\n",
      "919/919 - 50s - loss: 1.0354 - accuracy: 0.6856 - val_loss: 0.5881 - val_accuracy: 0.8116\n",
      "Epoch 55/300\n",
      "919/919 - 51s - loss: 1.0035 - accuracy: 0.6982 - val_loss: 0.5225 - val_accuracy: 0.8249\n",
      "Epoch 56/300\n",
      "919/919 - 51s - loss: 1.0058 - accuracy: 0.6941 - val_loss: 0.4867 - val_accuracy: 0.8285\n",
      "Epoch 57/300\n",
      "919/919 - 50s - loss: 0.9522 - accuracy: 0.7119 - val_loss: 0.5353 - val_accuracy: 0.8140\n",
      "Epoch 58/300\n",
      "919/919 - 50s - loss: 0.9491 - accuracy: 0.7136 - val_loss: 0.5151 - val_accuracy: 0.8225\n",
      "Epoch 59/300\n",
      "919/919 - 50s - loss: 0.9262 - accuracy: 0.7226 - val_loss: 0.5374 - val_accuracy: 0.8442\n",
      "Epoch 60/300\n",
      "919/919 - 50s - loss: 0.9417 - accuracy: 0.7144 - val_loss: 0.4713 - val_accuracy: 0.8527\n",
      "Epoch 61/300\n",
      "919/919 - 50s - loss: 0.9352 - accuracy: 0.7215 - val_loss: 0.5515 - val_accuracy: 0.8188\n",
      "Epoch 62/300\n",
      "919/919 - 51s - loss: 0.9252 - accuracy: 0.7221 - val_loss: 0.5016 - val_accuracy: 0.8418\n",
      "Epoch 63/300\n",
      "919/919 - 50s - loss: 0.9236 - accuracy: 0.7229 - val_loss: 0.5289 - val_accuracy: 0.8406\n",
      "Epoch 64/300\n",
      "919/919 - 51s - loss: 0.8892 - accuracy: 0.7350 - val_loss: 1.0902 - val_accuracy: 0.6304\n",
      "Epoch 65/300\n",
      "919/919 - 50s - loss: 0.9051 - accuracy: 0.7227 - val_loss: 0.4825 - val_accuracy: 0.8442\n",
      "Epoch 66/300\n",
      "919/919 - 50s - loss: 0.8878 - accuracy: 0.7357 - val_loss: 0.6171 - val_accuracy: 0.7633\n",
      "Epoch 67/300\n",
      "919/919 - 51s - loss: 0.8697 - accuracy: 0.7381 - val_loss: 0.5730 - val_accuracy: 0.7947\n",
      "Epoch 68/300\n",
      "919/919 - 50s - loss: 0.8558 - accuracy: 0.7455 - val_loss: 0.6015 - val_accuracy: 0.8140\n",
      "Epoch 69/300\n",
      "919/919 - 50s - loss: 0.8797 - accuracy: 0.7417 - val_loss: 0.5520 - val_accuracy: 0.8080\n",
      "Epoch 70/300\n",
      "919/919 - 50s - loss: 0.8760 - accuracy: 0.7436 - val_loss: 0.4333 - val_accuracy: 0.8647\n",
      "Epoch 71/300\n",
      "919/919 - 50s - loss: 0.8457 - accuracy: 0.7478 - val_loss: 0.5548 - val_accuracy: 0.8357\n",
      "Epoch 72/300\n",
      "919/919 - 50s - loss: 0.7974 - accuracy: 0.7666 - val_loss: 0.4835 - val_accuracy: 0.8527\n",
      "Epoch 73/300\n",
      "919/919 - 51s - loss: 0.8655 - accuracy: 0.7420 - val_loss: 0.5779 - val_accuracy: 0.8164\n",
      "Epoch 74/300\n",
      "919/919 - 51s - loss: 0.8039 - accuracy: 0.7672 - val_loss: 0.5084 - val_accuracy: 0.8237\n",
      "Epoch 75/300\n",
      "919/919 - 51s - loss: 0.7740 - accuracy: 0.7709 - val_loss: 0.5593 - val_accuracy: 0.8176\n",
      "Epoch 76/300\n",
      "919/919 - 51s - loss: 0.7541 - accuracy: 0.7802 - val_loss: 0.5242 - val_accuracy: 0.8249\n",
      "Epoch 77/300\n",
      "919/919 - 50s - loss: 0.8179 - accuracy: 0.7629 - val_loss: 0.4957 - val_accuracy: 0.8285\n",
      "Epoch 78/300\n",
      "919/919 - 50s - loss: 0.8139 - accuracy: 0.7621 - val_loss: 0.5492 - val_accuracy: 0.8309\n",
      "Epoch 79/300\n",
      "919/919 - 50s - loss: 0.8120 - accuracy: 0.7665 - val_loss: 0.5334 - val_accuracy: 0.8285\n",
      "Epoch 80/300\n",
      "919/919 - 50s - loss: 0.7086 - accuracy: 0.7913 - val_loss: 0.5018 - val_accuracy: 0.8345\n",
      "Epoch 81/300\n",
      "919/919 - 51s - loss: 0.7327 - accuracy: 0.7849 - val_loss: 0.5931 - val_accuracy: 0.8321\n",
      "Epoch 82/300\n",
      "919/919 - 50s - loss: 0.7277 - accuracy: 0.7876 - val_loss: 0.5018 - val_accuracy: 0.8418\n",
      "Epoch 83/300\n",
      "919/919 - 50s - loss: 0.7474 - accuracy: 0.7836 - val_loss: 0.5593 - val_accuracy: 0.8321\n",
      "Epoch 84/300\n",
      "919/919 - 50s - loss: 0.6642 - accuracy: 0.8051 - val_loss: 0.5299 - val_accuracy: 0.8454\n",
      "Epoch 85/300\n",
      "919/919 - 50s - loss: 0.7350 - accuracy: 0.7881 - val_loss: 0.5134 - val_accuracy: 0.8563\n",
      "Epoch 86/300\n",
      "919/919 - 50s - loss: 0.7742 - accuracy: 0.7812 - val_loss: 0.4541 - val_accuracy: 0.8514\n",
      "Epoch 87/300\n",
      "919/919 - 50s - loss: 0.6659 - accuracy: 0.8156 - val_loss: 0.6049 - val_accuracy: 0.8200\n",
      "Epoch 88/300\n",
      "919/919 - 51s - loss: 0.6858 - accuracy: 0.8074 - val_loss: 0.8399 - val_accuracy: 0.7995\n",
      "Epoch 89/300\n",
      "919/919 - 51s - loss: 0.6414 - accuracy: 0.8173 - val_loss: 0.6502 - val_accuracy: 0.7886\n",
      "Epoch 90/300\n",
      "919/919 - 50s - loss: 0.6988 - accuracy: 0.8010 - val_loss: 0.5279 - val_accuracy: 0.8563\n",
      "Epoch 91/300\n",
      "919/919 - 50s - loss: 0.6856 - accuracy: 0.8035 - val_loss: 0.4988 - val_accuracy: 0.8587\n",
      "Epoch 92/300\n",
      "919/919 - 50s - loss: 0.6557 - accuracy: 0.8147 - val_loss: 0.6947 - val_accuracy: 0.7911\n",
      "Epoch 93/300\n",
      "919/919 - 51s - loss: 0.6391 - accuracy: 0.8163 - val_loss: 0.6135 - val_accuracy: 0.8140\n",
      "Epoch 94/300\n",
      "919/919 - 51s - loss: 0.6371 - accuracy: 0.8205 - val_loss: 0.7018 - val_accuracy: 0.8043\n",
      "Epoch 95/300\n",
      "919/919 - 51s - loss: 0.7049 - accuracy: 0.7982 - val_loss: 0.5593 - val_accuracy: 0.8490\n",
      "Epoch 96/300\n",
      "919/919 - 51s - loss: 0.6058 - accuracy: 0.8312 - val_loss: 0.5248 - val_accuracy: 0.8671\n",
      "Epoch 97/300\n",
      "919/919 - 51s - loss: 0.6415 - accuracy: 0.8254 - val_loss: 0.4482 - val_accuracy: 0.8514\n",
      "Epoch 98/300\n",
      "919/919 - 50s - loss: 0.5851 - accuracy: 0.8326 - val_loss: 0.5259 - val_accuracy: 0.8454\n",
      "Epoch 99/300\n",
      "919/919 - 50s - loss: 0.6065 - accuracy: 0.8300 - val_loss: 0.5718 - val_accuracy: 0.8478\n",
      "Epoch 100/300\n",
      "919/919 - 51s - loss: 0.5566 - accuracy: 0.8402 - val_loss: 0.5226 - val_accuracy: 0.8454\n",
      "Epoch 101/300\n",
      "919/919 - 51s - loss: 0.5830 - accuracy: 0.8351 - val_loss: 0.6192 - val_accuracy: 0.8164\n",
      "Epoch 102/300\n",
      "919/919 - 50s - loss: 0.6383 - accuracy: 0.8244 - val_loss: 0.6290 - val_accuracy: 0.8176\n",
      "Epoch 103/300\n",
      "919/919 - 50s - loss: 0.5687 - accuracy: 0.8411 - val_loss: 0.5693 - val_accuracy: 0.8611\n",
      "Epoch 104/300\n",
      "919/919 - 50s - loss: 0.6614 - accuracy: 0.8259 - val_loss: 0.4648 - val_accuracy: 0.8406\n",
      "Epoch 105/300\n",
      "919/919 - 50s - loss: 0.6050 - accuracy: 0.8321 - val_loss: 0.5876 - val_accuracy: 0.8406\n",
      "Epoch 106/300\n",
      "919/919 - 50s - loss: 0.5493 - accuracy: 0.8485 - val_loss: 0.4504 - val_accuracy: 0.8768\n",
      "Epoch 107/300\n",
      "919/919 - 50s - loss: 0.5459 - accuracy: 0.8500 - val_loss: 0.5314 - val_accuracy: 0.8551\n",
      "Epoch 108/300\n",
      "919/919 - 51s - loss: 0.5838 - accuracy: 0.8399 - val_loss: 0.5161 - val_accuracy: 0.8599\n",
      "Epoch 109/300\n",
      "919/919 - 50s - loss: 0.5214 - accuracy: 0.8554 - val_loss: 0.5064 - val_accuracy: 0.8647\n",
      "Epoch 110/300\n",
      "919/919 - 50s - loss: 0.5706 - accuracy: 0.8464 - val_loss: 0.6049 - val_accuracy: 0.8490\n",
      "Epoch 111/300\n",
      "919/919 - 51s - loss: 0.5877 - accuracy: 0.8441 - val_loss: 0.5852 - val_accuracy: 0.8261\n",
      "Epoch 112/300\n",
      "919/919 - 51s - loss: 0.5535 - accuracy: 0.8504 - val_loss: 0.6019 - val_accuracy: 0.8382\n",
      "Epoch 113/300\n",
      "919/919 - 51s - loss: 0.5512 - accuracy: 0.8486 - val_loss: 0.5697 - val_accuracy: 0.8490\n",
      "Epoch 114/300\n",
      "919/919 - 50s - loss: 0.5860 - accuracy: 0.8423 - val_loss: 0.6518 - val_accuracy: 0.8490\n",
      "Epoch 115/300\n",
      "919/919 - 50s - loss: 0.5261 - accuracy: 0.8553 - val_loss: 0.6113 - val_accuracy: 0.8321\n",
      "Epoch 116/300\n",
      "919/919 - 51s - loss: 0.5804 - accuracy: 0.8487 - val_loss: 0.6410 - val_accuracy: 0.8382\n",
      "Epoch 117/300\n",
      "919/919 - 51s - loss: 0.5263 - accuracy: 0.8531 - val_loss: 0.5831 - val_accuracy: 0.8539\n",
      "Epoch 118/300\n",
      "919/919 - 50s - loss: 0.5614 - accuracy: 0.8535 - val_loss: 0.5203 - val_accuracy: 0.8635\n",
      "Epoch 119/300\n",
      "919/919 - 51s - loss: 0.5467 - accuracy: 0.8582 - val_loss: 0.5783 - val_accuracy: 0.8514\n",
      "Epoch 120/300\n",
      "919/919 - 50s - loss: 0.5189 - accuracy: 0.8570 - val_loss: 0.5587 - val_accuracy: 0.8502\n",
      "Epoch 121/300\n",
      "919/919 - 51s - loss: 0.5083 - accuracy: 0.8612 - val_loss: 0.5738 - val_accuracy: 0.8454\n",
      "Epoch 122/300\n",
      "919/919 - 51s - loss: 0.4832 - accuracy: 0.8680 - val_loss: 0.6503 - val_accuracy: 0.8430\n",
      "Epoch 123/300\n",
      "919/919 - 51s - loss: 0.5541 - accuracy: 0.8563 - val_loss: 0.5646 - val_accuracy: 0.8164\n",
      "Epoch 124/300\n",
      "919/919 - 51s - loss: 0.5983 - accuracy: 0.8511 - val_loss: 0.7466 - val_accuracy: 0.7911\n",
      "Epoch 125/300\n",
      "919/919 - 50s - loss: 0.5020 - accuracy: 0.8612 - val_loss: 0.6071 - val_accuracy: 0.8357\n",
      "Epoch 126/300\n",
      "919/919 - 50s - loss: 0.4764 - accuracy: 0.8748 - val_loss: 0.5482 - val_accuracy: 0.8623\n",
      "Epoch 127/300\n",
      "919/919 - 50s - loss: 0.5767 - accuracy: 0.8479 - val_loss: 0.4923 - val_accuracy: 0.8575\n",
      "Epoch 128/300\n",
      "919/919 - 51s - loss: 0.4888 - accuracy: 0.8714 - val_loss: 0.5467 - val_accuracy: 0.8539\n",
      "Epoch 129/300\n",
      "919/919 - 50s - loss: 0.5329 - accuracy: 0.8597 - val_loss: 0.6833 - val_accuracy: 0.8514\n",
      "Epoch 130/300\n",
      "919/919 - 51s - loss: 0.5155 - accuracy: 0.8645 - val_loss: 0.6161 - val_accuracy: 0.8406\n",
      "Epoch 131/300\n",
      "919/919 - 50s - loss: 0.4348 - accuracy: 0.8831 - val_loss: 0.7755 - val_accuracy: 0.8466\n",
      "Epoch 132/300\n",
      "919/919 - 50s - loss: 0.4479 - accuracy: 0.8803 - val_loss: 0.5918 - val_accuracy: 0.8527\n",
      "Epoch 133/300\n",
      "919/919 - 50s - loss: 0.5504 - accuracy: 0.8565 - val_loss: 0.6109 - val_accuracy: 0.8285\n",
      "Epoch 134/300\n",
      "919/919 - 50s - loss: 0.5015 - accuracy: 0.8689 - val_loss: 0.6877 - val_accuracy: 0.8249\n",
      "Epoch 135/300\n",
      "919/919 - 51s - loss: 0.5383 - accuracy: 0.8595 - val_loss: 0.7239 - val_accuracy: 0.8237\n"
     ]
    }
   ],
   "source": [
    "Earlystop = EarlyStopping(monitor='val_loss', mode='min',patience=65, min_delta=0.001)\n",
    "history = model.fit(train_batches,\n",
    "                    steps_per_epoch=(len(train_df)/10),\n",
    "                    epochs=300,\n",
    "                    verbose=2,\n",
    "                    validation_data=test_batches,validation_steps=len(test_df)/batch_size,callbacks=[checkpoint,Earlystop],class_weight=class_weights)"
   ]
  },
  {
   "cell_type": "code",
   "execution_count": null,
   "metadata": {
    "id": "zm_AewFBXTj8"
   },
   "outputs": [],
   "source": [
    "from tensorflow.keras import models\n",
    "model.load_weights(\"vgg16+SA.hdf5\")"
   ]
  },
  {
   "cell_type": "code",
   "execution_count": null,
   "metadata": {},
   "outputs": [],
   "source": [
    "predictions = model.predict(test_batches, steps=len(test_df)/batch_size, verbose=0)"
   ]
  },
  {
   "cell_type": "code",
   "execution_count": null,
   "metadata": {
    "colab": {
     "base_uri": "https://localhost:8080/"
    },
    "id": "KYxCDDjusR-S",
    "outputId": "622da7f3-08e3-473b-a08b-0f4113a621d4"
   },
   "outputs": [
    {
     "name": "stdout",
     "output_type": "stream",
     "text": [
      "\n",
      "Classification Report:\n",
      "              precision    recall  f1-score   support\n",
      "\n",
      "       akiec       0.70      0.61      0.65        23\n",
      "         bcc       0.62      0.81      0.70        26\n",
      "         bkl       0.63      0.44      0.52        66\n",
      "          df       0.50      0.33      0.40         6\n",
      "         mel       0.43      0.68      0.53        34\n",
      "          nv       0.95      0.95      0.95       663\n",
      "        vasc       1.00      0.90      0.95        10\n",
      "\n",
      "    accuracy                           0.88       828\n",
      "   macro avg       0.69      0.67      0.67       828\n",
      "weighted avg       0.88      0.88      0.88       828\n",
      "\n"
     ]
    }
   ],
   "source": [
    "#geting predictions on test dataset\n",
    "y_pred = np.argmax(predictions, axis=1)\n",
    "targetnames = ['akiec', 'bcc', 'bkl', 'df', 'mel', 'nv', 'vasc']\n",
    "#getting the true labels per image \n",
    "y_true = test_batches.classes\n",
    "#getting the predicted labels per image \n",
    "y_prob=predictions\n",
    "from tensorflow.keras.utils import to_categorical\n",
    "y_test = to_categorical(y_true)\n",
    "\n",
    "# Creating classification report \n",
    "report = classification_report(y_true, y_pred, target_names=targetnames)\n",
    "\n",
    "print(\"\\nClassification Report:\")\n",
    "print(report)"
   ]
  },
  {
   "cell_type": "code",
   "execution_count": null,
   "metadata": {
    "colab": {
     "base_uri": "https://localhost:8080/"
    },
    "id": "yy59Zs1jqylz",
    "outputId": "faf79303-a3a2-43b0-8db6-619b9fb43c79"
   },
   "outputs": [
    {
     "name": "stdout",
     "output_type": "stream",
     "text": [
      "Precision: 0.8822112036788664\n",
      "Recall: 0.8768115942028986\n",
      "Accuracy: 0.8768115942028986\n",
      "weighted Roc score: 0.9485012102702954\n"
     ]
    }
   ],
   "source": [
    "print(\"Precision: \"+ str(precision_score(y_true, y_pred, average='weighted')))\n",
    "print(\"Recall: \"+ str(recall_score(y_true, y_pred, average='weighted')))\n",
    "print(\"Accuracy: \" + str(accuracy_score(y_true, y_pred)))\n",
    "print(\"weighted Roc score: \" + str(roc_auc_score(y_true,y_prob,multi_class='ovr',average='weighted')))"
   ]
  },
  {
   "cell_type": "code",
   "execution_count": null,
   "metadata": {
    "colab": {
     "base_uri": "https://localhost:8080/"
    },
    "id": "vFRWOB82sDKi",
    "outputId": "42f3f56b-7eee-4c25-d0cf-8ed1b6b16e28"
   },
   "outputs": [
    {
     "name": "stdout",
     "output_type": "stream",
     "text": [
      "Precision: 0.6900977984238362\n",
      "Recall: 0.6732564962743991\n",
      "Accuracy: 0.8768115942028986\n",
      "Macro Roc score: 0.9379455280932522\n"
     ]
    }
   ],
   "source": [
    "\n",
    "print(\"Precision: \"+ str(precision_score(y_true, y_pred, average='macro')))\n",
    "print(\"Recall: \"+ str(recall_score(y_true, y_pred, average='macro')))\n",
    "print(\"Accuracy: \" + str(accuracy_score(y_true, y_pred)))\n",
    "print(\"Macro Roc score: \" + str(roc_auc_score(y_true,y_prob,multi_class='ovr',average='macro')))"
   ]
  },
  {
   "cell_type": "code",
   "execution_count": null,
   "metadata": {
    "colab": {
     "base_uri": "https://localhost:8080/"
    },
    "id": "nDNAPv9OsRVg",
    "outputId": "3833b19e-8610-4dd8-b16f-d510acae2b2a"
   },
   "outputs": [
    {
     "name": "stdout",
     "output_type": "stream",
     "text": [
      "Precision: 0.8768115942028986\n",
      "Recall: 0.8768115942028986\n",
      "Accuracy: 0.8768115942028986\n",
      "Micro Roc score: 0.9866901794674323\n"
     ]
    }
   ],
   "source": [
    "print(\"Precision: \"+ str(precision_score(y_true, y_pred, average='micro')))\n",
    "print(\"Recall: \"+ str(recall_score(y_true, y_pred, average='micro')))\n",
    "print(\"Accuracy: \" + str(accuracy_score(y_true, y_pred)))\n",
    "tpr={}\n",
    "fpr={}\n",
    "roc_auc={}\n",
    "fpr[\"micro\"], tpr[\"micro\"], _ = roc_curve(y_test.ravel(), y_prob.ravel())\n",
    "roc_auc[\"micro\"] = auc(fpr[\"micro\"], tpr[\"micro\"])\n",
    "print(\"Micro Roc score: \" + str(roc_auc[\"micro\"]))"
   ]
  },
  {
   "cell_type": "code",
   "execution_count": null,
   "metadata": {
    "colab": {
     "base_uri": "https://localhost:8080/"
    },
    "id": "U03sRDM2sudx",
    "outputId": "62a4d462-d639-4c5f-c36c-1e3e457adc18"
   },
   "outputs": [
    {
     "name": "stdout",
     "output_type": "stream",
     "text": [
      "The ROC AUC score of akiec is: 0.9642992168512018\n",
      "The ROC AUC score of bcc is: 0.9842700939957798\n",
      "The ROC AUC score of bkl is: 0.9005806092420267\n",
      "The ROC AUC score of df is: 0.8092051905920519\n",
      "The ROC AUC score of mel is: 0.9562157356645429\n",
      "The ROC AUC score of nv is: 0.9514145984734219\n",
      "The ROC AUC score of vasc is: 0.9996332518337409\n"
     ]
    }
   ],
   "source": [
    "fpr = {}\n",
    "tpr = {}\n",
    "roc_auc = {}\n",
    "for i in range(7):\n",
    "    r = roc_auc_score(y_test[:, i], y_prob[:, i])\n",
    "    print(\"The ROC AUC score of \"+targetnames[i]+\" is: \"+str(r))"
   ]
  },
  {
   "cell_type": "code",
   "execution_count": null,
   "metadata": {
    "id": "A5nG-b11wkep"
   },
   "outputs": [],
   "source": [
    "# Compute ROC curve and ROC area for each class\n",
    "fpr = {}\n",
    "tpr = {}\n",
    "roc_auc = dict()\n",
    "for i in range(7):\n",
    "    fpr[i], tpr[i], _ = roc_curve(y_test[:, i], y_prob[:, i], drop_intermediate=False)\n",
    "    roc_auc[i] = auc(fpr[i], tpr[i])"
   ]
  },
  {
   "cell_type": "code",
   "execution_count": null,
   "metadata": {
    "colab": {
     "base_uri": "https://localhost:8080/",
     "height": 295
    },
    "id": "9wz2--WDwHQ4",
    "outputId": "9d0f8832-0fa9-4f2a-a2c6-0a12ba8f2dd1"
   },
   "outputs": [
    {
     "data": {
      "image/png": "[encoded data removed]",
      "text/plain": [
       "<Figure size 432x288 with 1 Axes>"
      ]
     },
     "metadata": {
      "needs_background": "light",
      "tags": []
     },
     "output_type": "display_data"
    }
   ],
   "source": [
    "\n",
    "plt.plot(fpr[0], tpr[0],'v-',label='akiec: ROC curve of (area = %0.2f)' % roc_auc[0])\n",
    "plt.plot(fpr[1], tpr[1],'c',label='bcc: ROC curve of (area = %0.2f)' % roc_auc[1])\n",
    "plt.plot(fpr[2], tpr[2],'b',label='bkl: ROC curve of (area = %0.2f)' % roc_auc[2])\n",
    "plt.plot(fpr[3], tpr[3],'g',label='df: ROC curve of (area = %0.2f)' % roc_auc[3])\n",
    "plt.plot(fpr[4], tpr[4],'y',label='mel: ROC curve of (area = %0.2f)' % roc_auc[4])\n",
    "plt.plot(fpr[5], tpr[5],'o-',label='nv: ROC curve of (area = %0.2f)' % roc_auc[5])\n",
    "plt.plot(fpr[6], tpr[6],'r',label='vasc: ROC curve of (area = %0.2f)' % roc_auc[6])\n",
    "\n",
    "plt.plot([0, 1], [0, 1], 'k--')\n",
    "plt.xlim([-0.1, 1.1])\n",
    "plt.ylim([-0.1, 1.1])\n",
    "plt.xlabel('False Positive Rate')\n",
    "plt.ylabel('True Positive Rate')\n",
    "plt.title('Receiver operating characteristic of %s'%targetnames[i])\n",
    "plt.legend(loc=\"lower right\")\n",
    "plt.show()"
   ]
  },
  {
   "cell_type": "code",
   "execution_count": null,
   "metadata": {
    "id": "FDTMtBeTdBfU"
   },
   "outputs": [],
   "source": []
  }
 ],
 "metadata": {
  "accelerator": "GPU",
  "colab": {
   "collapsed_sections": [],
   "machine_shape": "hm",
   "name": "Vgg16+SA.ipynb",
   "provenance": [],
   "toc_visible": true
  },
  "kernelspec": {
   "display_name": "Python 3",
   "language": "python",
   "name": "python3"
  },
  "language_info": {
   "codemirror_mode": {
    "name": "ipython",
    "version": 3
   },
   "file_extension": ".py",
   "mimetype": "text/x-python",
   "name": "python",
   "nbconvert_exporter": "python",
   "pygments_lexer": "ipython3",
   "version": "3.7.9"
  }
 },
 "nbformat": 4,
 "nbformat_minor": 1
}
